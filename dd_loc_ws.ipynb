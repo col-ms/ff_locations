{
 "cells": [
  {
   "cell_type": "code",
   "execution_count": 2,
   "metadata": {},
   "outputs": [],
   "source": [
    "import requests\n",
    "import pandas as pd\n",
    "from bs4 import BeautifulSoup"
   ]
  },
  {
   "cell_type": "code",
   "execution_count": null,
   "metadata": {},
   "outputs": [],
   "source": [
    "base_url = 'https://locations.dunkindonuts.com/en'\n",
    "\n",
    "response = requests.get(url = base_url)"
   ]
  },
  {
   "cell_type": "code",
   "execution_count": null,
   "metadata": {},
   "outputs": [],
   "source": [
    "soup = BeautifulSoup(response.content, 'html.parser')"
   ]
  },
  {
   "cell_type": "code",
   "execution_count": 8,
   "metadata": {},
   "outputs": [],
   "source": [
    "dd_states = [item.get_text() for item in soup.select('.Directory-listLink')]"
   ]
  },
  {
   "cell_type": "code",
   "execution_count": 7,
   "metadata": {},
   "outputs": [],
   "source": [
    "states = {\n",
    "    'AK':'Alaska',\n",
    "    'AL':'Alabama',\n",
    "    'AR':'Arkansas',\n",
    "    'AZ':'Arizona',\n",
    "    'CA':'California',\n",
    "    'CO':'Colorado',\n",
    "    'CT':'Connecticut',\n",
    "    'DC':'District of Columbia',\n",
    "    'DE':'Delaware',\n",
    "    'FL':'Florida',\n",
    "    'GA':'Georgia',\n",
    "    'HI':'Hawaii',\n",
    "    'IA':'Iowa',\n",
    "    'ID':'Idaho',\n",
    "    'IL':'Illinois',\n",
    "    'IN':'Indiana',\n",
    "    'KS':'Kansas',\n",
    "    'KY':'Kentucky',\n",
    "    'LA':'Louisiana',\n",
    "    'MA':'Massachusetts',\n",
    "    'MD':'Maryland',\n",
    "    'ME':'Maine',\n",
    "    'MI':'Michigan',\n",
    "    'MN':'Minnesota',\n",
    "    'MO':'Missouri',\n",
    "    'MS':'Mississippi',\n",
    "    'MT':'Montana',\n",
    "    'NC':'North Carolina',\n",
    "    'ND':'North Dakota',\n",
    "    'NE':'Nebraska',\n",
    "    'NH':'New Hampshire',\n",
    "    'NJ':'New Jersey',\n",
    "    'NM':'New Mexico',\n",
    "    'NV':'Nevada',\n",
    "    'NY':'New York',\n",
    "    'OH':'Ohio',\n",
    "    'OK':'Oklahoma',\n",
    "    'OR':'Oregon',\n",
    "    'PA':'Pennsylvania',\n",
    "    'RI':'Rhode Island',\n",
    "    'SC':'South Carolina',\n",
    "    'SD':'South Dakota',\n",
    "    'TN':'Tennessee',\n",
    "    'TX':'Texas',\n",
    "    'UT':'Utah',\n",
    "    'VA':'Virginia',\n",
    "    'VT':'Vermont',\n",
    "    'WA':'Washington',\n",
    "    'WI':'Wisconsin',\n",
    "    'WV':'West Virginia',\n",
    "    'WY':'Wyoming'\n",
    "}\n"
   ]
  },
  {
   "cell_type": "code",
   "execution_count": 19,
   "metadata": {},
   "outputs": [],
   "source": [
    "def get_key(val):\n",
    "    for key, value in states.items():\n",
    "        if val == value:\n",
    "            return key\n",
    "        if val == \"Washington DC\": # special case because DD website does not list DC as \"District of Columbia\"\n",
    "            return \"DC\"\n",
    "    return \"key doesn't exist\""
   ]
  },
  {
   "cell_type": "code",
   "execution_count": 26,
   "metadata": {},
   "outputs": [],
   "source": [
    "dd_state_abvs = [get_key(val).lower() for val in dd_states]"
   ]
  },
  {
   "cell_type": "code",
   "execution_count": 27,
   "metadata": {},
   "outputs": [
    {
     "data": {
      "text/plain": [
       "'https://locations.dunkindonuts.com/en/al'"
      ]
     },
     "execution_count": 27,
     "metadata": {},
     "output_type": "execute_result"
    }
   ],
   "source": [
    "base_url + \"/\" + dd_state_abvs[0]"
   ]
  },
  {
   "cell_type": "code",
   "execution_count": 28,
   "metadata": {},
   "outputs": [],
   "source": [
    "page = requests.get(url = base_url + \"/\" + dd_state_abvs[0])\n",
    "state_soup = BeautifulSoup(page.content, 'html.parser')"
   ]
  },
  {
   "cell_type": "code",
   "execution_count": 34,
   "metadata": {},
   "outputs": [],
   "source": [
    "state_twns = [item.get_text() for item in state_soup.select('.Directory-listItem')]"
   ]
  },
  {
   "cell_type": "code",
   "execution_count": 179,
   "metadata": {},
   "outputs": [],
   "source": [
    "store_data_combined = []"
   ]
  },
  {
   "cell_type": "code",
   "execution_count": 180,
   "metadata": {},
   "outputs": [],
   "source": [
    "page = requests.get(url = 'https://locations.dunkindonuts.com/en/al/alabaster')\n",
    "new_soup = BeautifulSoup(page.content, 'html.parser')"
   ]
  },
  {
   "cell_type": "code",
   "execution_count": 181,
   "metadata": {},
   "outputs": [],
   "source": [
    "main_page = new_soup.find(id = 'main')"
   ]
  },
  {
   "cell_type": "code",
   "execution_count": 182,
   "metadata": {},
   "outputs": [],
   "source": [
    "teaser = main_page.find_all(class_ = 'Teaser Teaser--directory')"
   ]
  },
  {
   "cell_type": "code",
   "execution_count": 183,
   "metadata": {},
   "outputs": [
    {
     "data": {
      "text/plain": [
       "1"
      ]
     },
     "execution_count": 183,
     "metadata": {},
     "output_type": "execute_result"
    }
   ],
   "source": [
    "len(teaser)"
   ]
  },
  {
   "cell_type": "code",
   "execution_count": 184,
   "metadata": {},
   "outputs": [],
   "source": [
    "address = teaser[0]"
   ]
  },
  {
   "cell_type": "code",
   "execution_count": 185,
   "metadata": {},
   "outputs": [
    {
     "name": "stdout",
     "output_type": "stream",
     "text": [
      "<div class=\"Teaser Teaser--directory\">\n",
      " <a class=\"Teaser-name\" href=\"../../en/al/alabaster/1114-1st-st-n/358766\">\n",
      "  1114 1st St N\n",
      " </a>\n",
      " <div class=\"Teaser-hours\">\n",
      "  <span class=\"c-hours-today js-hours-today\" data-days='[{\"day\":\"MONDAY\",\"intervals\":[{\"end\":2000,\"start\":500}],\"isClosed\":false},{\"day\":\"TUESDAY\",\"intervals\":[{\"end\":2000,\"start\":500}],\"isClosed\":false},{\"day\":\"WEDNESDAY\",\"intervals\":[{\"end\":2000,\"start\":500}],\"isClosed\":false},{\"day\":\"THURSDAY\",\"intervals\":[{\"end\":2000,\"start\":500}],\"isClosed\":false},{\"day\":\"FRIDAY\",\"intervals\":[{\"end\":2000,\"start\":500}],\"isClosed\":false},{\"day\":\"SATURDAY\",\"intervals\":[{\"end\":2000,\"start\":600}],\"isClosed\":false},{\"day\":\"SUNDAY\",\"intervals\":[{\"end\":2000,\"start\":600}],\"isClosed\":false}]' data-utc-offsets='[{\"offset\":-18000,\"start\":1647158400},{\"offset\":-21600,\"start\":1667718000},{\"offset\":-18000,\"start\":1678608000}]'>\n",
      "   <span class=\"c-hours-today-details-row js-day-of-week-row\" data-day-of-week-end-index=\"1\" data-day-of-week-start-index=\"1\">\n",
      "    <span class=\"c-hours-today-day-status\">\n",
      "    </span>\n",
      "    <span class=\"c-hours-today-day-hours\">\n",
      "     <span class=\"c-hours-today-day-hours-intervals-instance js-hours-interval-instance\" data-close-at-text=\"Closed at\" data-midnight-text=\"Open until midnight\" data-open-interval-end=\"2000\" data-open-interval-start=\"500\" data-open-until-text=\"Open until\" data-twenty-four-hour-clock=\"false\">\n",
      "      <span class=\"c-hours-today-day-hours-intervals-instance-open\">\n",
      "       5:00 AM\n",
      "      </span>\n",
      "      <span aria-label=\"To\" class=\"c-hours-today-day-hours-intervals-instance-separator\">\n",
      "       -\n",
      "      </span>\n",
      "      <span class=\"c-hours-today-day-hours-intervals-instance-close\">\n",
      "       8:00 PM\n",
      "      </span>\n",
      "     </span>\n",
      "    </span>\n",
      "   </span>\n",
      "   <span class=\"c-hours-today-details-row js-day-of-week-row\" data-day-of-week-end-index=\"2\" data-day-of-week-start-index=\"2\">\n",
      "    <span class=\"c-hours-today-day-status\">\n",
      "    </span>\n",
      "    <span class=\"c-hours-today-day-hours\">\n",
      "     <span class=\"c-hours-today-day-hours-intervals-instance js-hours-interval-instance\" data-close-at-text=\"Closed at\" data-midnight-text=\"Open until midnight\" data-open-interval-end=\"2000\" data-open-interval-start=\"500\" data-open-until-text=\"Open until\" data-twenty-four-hour-clock=\"false\">\n",
      "      <span class=\"c-hours-today-day-hours-intervals-instance-open\">\n",
      "       5:00 AM\n",
      "      </span>\n",
      "      <span aria-label=\"To\" class=\"c-hours-today-day-hours-intervals-instance-separator\">\n",
      "       -\n",
      "      </span>\n",
      "      <span class=\"c-hours-today-day-hours-intervals-instance-close\">\n",
      "       8:00 PM\n",
      "      </span>\n",
      "     </span>\n",
      "    </span>\n",
      "   </span>\n",
      "   <span class=\"c-hours-today-details-row js-day-of-week-row\" data-day-of-week-end-index=\"3\" data-day-of-week-start-index=\"3\">\n",
      "    <span class=\"c-hours-today-day-status\">\n",
      "    </span>\n",
      "    <span class=\"c-hours-today-day-hours\">\n",
      "     <span class=\"c-hours-today-day-hours-intervals-instance js-hours-interval-instance\" data-close-at-text=\"Closed at\" data-midnight-text=\"Open until midnight\" data-open-interval-end=\"2000\" data-open-interval-start=\"500\" data-open-until-text=\"Open until\" data-twenty-four-hour-clock=\"false\">\n",
      "      <span class=\"c-hours-today-day-hours-intervals-instance-open\">\n",
      "       5:00 AM\n",
      "      </span>\n",
      "      <span aria-label=\"To\" class=\"c-hours-today-day-hours-intervals-instance-separator\">\n",
      "       -\n",
      "      </span>\n",
      "      <span class=\"c-hours-today-day-hours-intervals-instance-close\">\n",
      "       8:00 PM\n",
      "      </span>\n",
      "     </span>\n",
      "    </span>\n",
      "   </span>\n",
      "   <span class=\"c-hours-today-details-row js-day-of-week-row\" data-day-of-week-end-index=\"4\" data-day-of-week-start-index=\"4\">\n",
      "    <span class=\"c-hours-today-day-status\">\n",
      "    </span>\n",
      "    <span class=\"c-hours-today-day-hours\">\n",
      "     <span class=\"c-hours-today-day-hours-intervals-instance js-hours-interval-instance\" data-close-at-text=\"Closed at\" data-midnight-text=\"Open until midnight\" data-open-interval-end=\"2000\" data-open-interval-start=\"500\" data-open-until-text=\"Open until\" data-twenty-four-hour-clock=\"false\">\n",
      "      <span class=\"c-hours-today-day-hours-intervals-instance-open\">\n",
      "       5:00 AM\n",
      "      </span>\n",
      "      <span aria-label=\"To\" class=\"c-hours-today-day-hours-intervals-instance-separator\">\n",
      "       -\n",
      "      </span>\n",
      "      <span class=\"c-hours-today-day-hours-intervals-instance-close\">\n",
      "       8:00 PM\n",
      "      </span>\n",
      "     </span>\n",
      "    </span>\n",
      "   </span>\n",
      "   <span class=\"c-hours-today-details-row js-day-of-week-row\" data-day-of-week-end-index=\"5\" data-day-of-week-start-index=\"5\">\n",
      "    <span class=\"c-hours-today-day-status\">\n",
      "    </span>\n",
      "    <span class=\"c-hours-today-day-hours\">\n",
      "     <span class=\"c-hours-today-day-hours-intervals-instance js-hours-interval-instance\" data-close-at-text=\"Closed at\" data-midnight-text=\"Open until midnight\" data-open-interval-end=\"2000\" data-open-interval-start=\"500\" data-open-until-text=\"Open until\" data-twenty-four-hour-clock=\"false\">\n",
      "      <span class=\"c-hours-today-day-hours-intervals-instance-open\">\n",
      "       5:00 AM\n",
      "      </span>\n",
      "      <span aria-label=\"To\" class=\"c-hours-today-day-hours-intervals-instance-separator\">\n",
      "       -\n",
      "      </span>\n",
      "      <span class=\"c-hours-today-day-hours-intervals-instance-close\">\n",
      "       8:00 PM\n",
      "      </span>\n",
      "     </span>\n",
      "    </span>\n",
      "   </span>\n",
      "   <span class=\"c-hours-today-details-row js-day-of-week-row\" data-day-of-week-end-index=\"6\" data-day-of-week-start-index=\"6\">\n",
      "    <span class=\"c-hours-today-day-status\">\n",
      "    </span>\n",
      "    <span class=\"c-hours-today-day-hours\">\n",
      "     <span class=\"c-hours-today-day-hours-intervals-instance js-hours-interval-instance\" data-close-at-text=\"Closed at\" data-midnight-text=\"Open until midnight\" data-open-interval-end=\"2000\" data-open-interval-start=\"600\" data-open-until-text=\"Open until\" data-twenty-four-hour-clock=\"false\">\n",
      "      <span class=\"c-hours-today-day-hours-intervals-instance-open\">\n",
      "       6:00 AM\n",
      "      </span>\n",
      "      <span aria-label=\"To\" class=\"c-hours-today-day-hours-intervals-instance-separator\">\n",
      "       -\n",
      "      </span>\n",
      "      <span class=\"c-hours-today-day-hours-intervals-instance-close\">\n",
      "       8:00 PM\n",
      "      </span>\n",
      "     </span>\n",
      "    </span>\n",
      "   </span>\n",
      "   <span class=\"c-hours-today-details-row js-day-of-week-row\" data-day-of-week-end-index=\"0\" data-day-of-week-start-index=\"0\">\n",
      "    <span class=\"c-hours-today-day-status\">\n",
      "    </span>\n",
      "    <span class=\"c-hours-today-day-hours\">\n",
      "     <span class=\"c-hours-today-day-hours-intervals-instance js-hours-interval-instance\" data-close-at-text=\"Closed at\" data-midnight-text=\"Open until midnight\" data-open-interval-end=\"2000\" data-open-interval-start=\"600\" data-open-until-text=\"Open until\" data-twenty-four-hour-clock=\"false\">\n",
      "      <span class=\"c-hours-today-day-hours-intervals-instance-open\">\n",
      "       6:00 AM\n",
      "      </span>\n",
      "      <span aria-label=\"To\" class=\"c-hours-today-day-hours-intervals-instance-separator\">\n",
      "       -\n",
      "      </span>\n",
      "      <span class=\"c-hours-today-day-hours-intervals-instance-close\">\n",
      "       8:00 PM\n",
      "      </span>\n",
      "     </span>\n",
      "    </span>\n",
      "   </span>\n",
      "  </span>\n",
      " </div>\n",
      " <div class=\"Address Teaser-address\">\n",
      "  <address class=\"Address-content\">\n",
      "   <div class=\"Address-line\">\n",
      "    <span class=\"Address-field Address-line1\">\n",
      "     1114 1st St N\n",
      "    </span>\n",
      "   </div>\n",
      "   <div class=\"Address-line\">\n",
      "    <span class=\"Address-field Address-city\">\n",
      "     Alabaster\n",
      "    </span>\n",
      "    <abbr class=\"Address-field Address-region Address-region--code Address-region--al\" title=\"Alabama\">\n",
      "     AL\n",
      "    </abbr>\n",
      "    <span class=\"Address-field Address-postalCode\">\n",
      "     35007\n",
      "    </span>\n",
      "   </div>\n",
      "  </address>\n",
      " </div>\n",
      " <a class=\"Teaser-overlay\" data-ya-track=\"visitpage\" href=\"../../en/al/alabaster/1114-1st-st-n/358766\">\n",
      "  <span class=\"sr-only\">\n",
      "   Click to view location\n",
      "  </span>\n",
      " </a>\n",
      "</div>\n"
     ]
    }
   ],
   "source": [
    "print(address.prettify())"
   ]
  },
  {
   "cell_type": "code",
   "execution_count": 186,
   "metadata": {},
   "outputs": [],
   "source": [
    "closer = address.find(class_ = 'Teaser-name')"
   ]
  },
  {
   "cell_type": "code",
   "execution_count": 187,
   "metadata": {},
   "outputs": [],
   "source": [
    "store_address = list(closer.attrs.values())[0]"
   ]
  },
  {
   "cell_type": "code",
   "execution_count": 188,
   "metadata": {},
   "outputs": [],
   "source": [
    "store_address = store_address[8:]"
   ]
  },
  {
   "cell_type": "code",
   "execution_count": 189,
   "metadata": {},
   "outputs": [
    {
     "data": {
      "text/plain": [
       "'https://locations.dunkindonuts.com/en/al/alabaster/1114-1st-st-n/358766'"
      ]
     },
     "execution_count": 189,
     "metadata": {},
     "output_type": "execute_result"
    }
   ],
   "source": [
    "base_url + store_address"
   ]
  },
  {
   "cell_type": "code",
   "execution_count": 190,
   "metadata": {},
   "outputs": [],
   "source": [
    "store_page = requests.get(url = base_url + store_address)"
   ]
  },
  {
   "cell_type": "code",
   "execution_count": 191,
   "metadata": {},
   "outputs": [],
   "source": [
    "store_soup = BeautifulSoup(store_page.content, 'html.parser')"
   ]
  },
  {
   "cell_type": "code",
   "execution_count": 192,
   "metadata": {},
   "outputs": [],
   "source": [
    "address_data = [item.get_text() for item in\\\n",
    "    store_soup.select('.c-address-postal-code , .c-address-city , .c-address-state , .c-address-street-2 , .c-address-street-1')]"
   ]
  },
  {
   "cell_type": "code",
   "execution_count": 193,
   "metadata": {},
   "outputs": [],
   "source": [
    "phone_data = [store_soup.select('#phone-main')[0].get_text()]"
   ]
  },
  {
   "cell_type": "code",
   "execution_count": 194,
   "metadata": {},
   "outputs": [],
   "source": [
    "hrs_data = [item.get_text() for item in \\\n",
    "    store_soup.select('.c-hours-details-row-intervals')]"
   ]
  },
  {
   "cell_type": "code",
   "execution_count": 195,
   "metadata": {},
   "outputs": [],
   "source": [
    "feature_names = [\n",
    "    'Drive Thru',\n",
    "    'On-the-Go Mobile Ordering',\n",
    "    \"Accepts Dunkin' Cards\",\n",
    "    'K-Cup Pods',\n",
    "    'Curbside Pick Up',\n",
    "    'Baskin-Robbins'\n",
    "]"
   ]
  },
  {
   "cell_type": "code",
   "execution_count": 196,
   "metadata": {},
   "outputs": [],
   "source": [
    "def get_feat_data(storeSoupObject):\n",
    "    for item in storeSoupObject.select('.Core-features'):\n",
    "        return [item.get_text().__contains__(feature) for feature in feature_names]"
   ]
  },
  {
   "cell_type": "code",
   "execution_count": 197,
   "metadata": {},
   "outputs": [],
   "source": [
    "feature_data = get_feat_data(store_soup)"
   ]
  },
  {
   "cell_type": "code",
   "execution_count": 198,
   "metadata": {},
   "outputs": [],
   "source": [
    "field_names = [\n",
    "    'address_line_1', \n",
    "    'address_line_2', \n",
    "    'city', \n",
    "    'state', \n",
    "    'zip',\n",
    "    'phone',\n",
    "    'mon_hrs',\n",
    "    'tue_hrs',\n",
    "    'wed_hrs',\n",
    "    'thu_hrs',\n",
    "    'fri_hrs',\n",
    "    'sat_hrs',\n",
    "    'sun_hrs',\n",
    "    'drive-thru',\n",
    "    'mobile-order',\n",
    "    'dunkin-card',\n",
    "    'kcup',\n",
    "    'curbside-pickup',\n",
    "    'has-baskin-robbins']"
   ]
  },
  {
   "cell_type": "code",
   "execution_count": 199,
   "metadata": {},
   "outputs": [
    {
     "name": "stdout",
     "output_type": "stream",
     "text": [
      "['1114 1st St N', 'Suite 200', 'Alabaster', 'AL', '35007']\n",
      "#####\n",
      "['(205) 624-4880']\n",
      "#####\n",
      "['5:00 AM - 8:00 PM', '5:00 AM - 8:00 PM', '5:00 AM - 8:00 PM', '5:00 AM - 8:00 PM', '5:00 AM - 8:00 PM', '6:00 AM - 8:00 PM', '6:00 AM - 8:00 PM']\n",
      "#####\n",
      "[True, False, True, True, False, False]\n"
     ]
    }
   ],
   "source": [
    "print(address_data)\n",
    "print('#####')\n",
    "print(phone_data)\n",
    "print('#####')\n",
    "print(hrs_data)\n",
    "print('#####')\n",
    "print(feature_data)"
   ]
  },
  {
   "cell_type": "code",
   "execution_count": 202,
   "metadata": {},
   "outputs": [],
   "source": [
    "store_data_combined.append(address_data + phone_data + hrs_data + feature_data)"
   ]
  },
  {
   "cell_type": "code",
   "execution_count": 204,
   "metadata": {},
   "outputs": [],
   "source": [
    "store_data_combined[0] = address_data + phone_data + hrs_data + feature_data"
   ]
  },
  {
   "cell_type": "code",
   "execution_count": 205,
   "metadata": {},
   "outputs": [
    {
     "name": "stdout",
     "output_type": "stream",
     "text": [
      "[['1114 1st St N', 'Suite 200', 'Alabaster', 'AL', '35007', '(205) 624-4880', '5:00 AM - 8:00 PM', '5:00 AM - 8:00 PM', '5:00 AM - 8:00 PM', '5:00 AM - 8:00 PM', '5:00 AM - 8:00 PM', '6:00 AM - 8:00 PM', '6:00 AM - 8:00 PM', True, False, True, True, False, False], ['1114 1st St N', 'Suite 200', 'Alabaster', 'AL', '35007', '(205) 624-4880', '5:00 AM - 8:00 PM', '5:00 AM - 8:00 PM', '5:00 AM - 8:00 PM', '5:00 AM - 8:00 PM', '5:00 AM - 8:00 PM', '6:00 AM - 8:00 PM', '6:00 AM - 8:00 PM', True, False, True, True, False, False]]\n"
     ]
    }
   ],
   "source": [
    "print(store_data_combined)"
   ]
  },
  {
   "cell_type": "code",
   "execution_count": 207,
   "metadata": {},
   "outputs": [
    {
     "name": "stdout",
     "output_type": "stream",
     "text": [
      "  address_line_1 address_line_2       city state    zip           phone  \\\n",
      "0  1114 1st St N      Suite 200  Alabaster    AL  35007  (205) 624-4880   \n",
      "1  1114 1st St N      Suite 200  Alabaster    AL  35007  (205) 624-4880   \n",
      "\n",
      "             mon_hrs            tue_hrs            wed_hrs            thu_hrs  \\\n",
      "0  5:00 AM - 8:00 PM  5:00 AM - 8:00 PM  5:00 AM - 8:00 PM  5:00 AM - 8:00 PM   \n",
      "1  5:00 AM - 8:00 PM  5:00 AM - 8:00 PM  5:00 AM - 8:00 PM  5:00 AM - 8:00 PM   \n",
      "\n",
      "             fri_hrs            sat_hrs            sun_hrs  drive-thru  \\\n",
      "0  5:00 AM - 8:00 PM  6:00 AM - 8:00 PM  6:00 AM - 8:00 PM        True   \n",
      "1  5:00 AM - 8:00 PM  6:00 AM - 8:00 PM  6:00 AM - 8:00 PM        True   \n",
      "\n",
      "   mobile-order  dunkin-card  kcup  curbside-pickup  has-baskin-robbins  \n",
      "0         False         True  True            False               False  \n",
      "1         False         True  True            False               False  \n"
     ]
    }
   ],
   "source": [
    "print(pd.DataFrame(store_data_combined, columns = field_names))"
   ]
  },
  {
   "cell_type": "code",
   "execution_count": 165,
   "metadata": {},
   "outputs": [],
   "source": [
    "store_data_dict = dict(zip(field_names, store_data_combined))"
   ]
  },
  {
   "cell_type": "code",
   "execution_count": 168,
   "metadata": {},
   "outputs": [
    {
     "name": "stdout",
     "output_type": "stream",
     "text": [
      "address_line_1 = 1114 1st St N\n",
      "address_line_2 = Suite 200\n",
      "city = Alabaster\n",
      "state = AL\n",
      "zip = 35007\n",
      "phone = (205) 624-4880\n",
      "mon_hrs = 5:00 AM - 8:00 PM\n",
      "tue_hrs = 5:00 AM - 8:00 PM\n",
      "wed_hrs = 5:00 AM - 8:00 PM\n",
      "thu_hrs = 5:00 AM - 8:00 PM\n",
      "fri_hrs = 5:00 AM - 8:00 PM\n",
      "sat_hrs = 6:00 AM - 8:00 PM\n",
      "sun_hrs = 6:00 AM - 8:00 PM\n",
      "drive-thru = True\n",
      "mobile-order = False\n",
      "dunkin-card = True\n",
      "kcup = True\n",
      "curbside-pickup = False\n",
      "has-baskin-robbins = False\n"
     ]
    }
   ],
   "source": [
    "for key, value in store_data_dict.items():\n",
    "    print(key, \"=\", value)"
   ]
  },
  {
   "cell_type": "code",
   "execution_count": 131,
   "metadata": {},
   "outputs": [],
   "source": [
    "store_24_page = requests.get(url = 'https://locations.dunkindonuts.com/en/ny/walden/123-e-main-st/354126')\n",
    "store_24_soup = BeautifulSoup(store_24_page.content, 'html.parser')"
   ]
  },
  {
   "cell_type": "code",
   "execution_count": 139,
   "metadata": {},
   "outputs": [
    {
     "data": {
      "text/plain": [
       "True"
      ]
     },
     "execution_count": 139,
     "metadata": {},
     "output_type": "execute_result"
    }
   ],
   "source": [
    "store_24_soup.select('.Core-features')[0].get_text().__contains__('Drive Thru')"
   ]
  },
  {
   "cell_type": "code",
   "execution_count": 134,
   "metadata": {},
   "outputs": [],
   "source": [
    "no_feats = [item.get_text() for item in store_24_soup.select('Core.features')]"
   ]
  }
 ],
 "metadata": {
  "interpreter": {
   "hash": "81b417f7e99debf9609bef134b1fac8e0a0a31c7a8c9a243109829771a606077"
  },
  "kernelspec": {
   "display_name": "Python 3.10.4 64-bit",
   "language": "python",
   "name": "python3"
  },
  "language_info": {
   "codemirror_mode": {
    "name": "ipython",
    "version": 3
   },
   "file_extension": ".py",
   "mimetype": "text/x-python",
   "name": "python",
   "nbconvert_exporter": "python",
   "pygments_lexer": "ipython3",
   "version": "3.10.4"
  },
  "orig_nbformat": 4
 },
 "nbformat": 4,
 "nbformat_minor": 2
}
