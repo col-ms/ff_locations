{
 "cells": [
  {
   "cell_type": "code",
   "execution_count": 31,
   "metadata": {},
   "outputs": [],
   "source": [
    "import pandas as pd\n",
    "import requests\n",
    "from bs4 import BeautifulSoup\n",
    "import json"
   ]
  },
  {
   "cell_type": "code",
   "execution_count": 20,
   "metadata": {},
   "outputs": [],
   "source": [
    "bbox_ranges = [\n",
    "    '24.00,-85.00,49.00,-125.00',\n",
    "    '24.00,-85.00,49.50,-80.00',\n",
    "    '24.00,-80.00,49.50,-76.25',\n",
    "    '24.00,-76.25,49.50,-73.00',\n",
    "    '24.00,-73.00,49.50,-69.50',\n",
    "    '24.00,-69.50,49.50,-66.00',\n",
    "    '50.70,-169.30,71.70,-140.00',\n",
    "    '15.00,-179.00,29.00,-154.00'\n",
    "]\n",
    "\n",
    "base_url = 'http://www.mapquestapi.com/search/v2/rectangle?'\n",
    "key = '4XWxa4hnzMheytBGszWEWqoBPwzLk4wI'"
   ]
  },
  {
   "cell_type": "code",
   "execution_count": 30,
   "metadata": {},
   "outputs": [
    {
     "name": "stdout",
     "output_type": "stream",
     "text": [
      "<class 'requests.models.Response'>\n",
      "<class 'requests.models.Response'>\n",
      "<class 'requests.models.Response'>\n",
      "<class 'requests.models.Response'>\n",
      "<class 'requests.models.Response'>\n",
      "<class 'requests.models.Response'>\n",
      "<class 'requests.models.Response'>\n",
      "<class 'requests.models.Response'>\n"
     ]
    }
   ],
   "source": [
    "for bb in bbox_ranges:\n",
    "    \n",
    "    params = {\n",
    "        'key': key,\n",
    "        'boundingBox': bb,\n",
    "        'units': 'm',\n",
    "        'ambiguities': 'ignore',\n",
    "        'maxMatches': '4000',\n",
    "        'outFormat': 'json',\n",
    "        'hostedData': 'mqap.33454_DunkinDonuts'\n",
    "    }\n",
    "\n",
    "    get_result = requests.get(url = base_url, params = params)\n",
    "\n",
    "    print(type(get_result))"
   ]
  },
  {
   "cell_type": "code",
   "execution_count": 33,
   "metadata": {},
   "outputs": [
    {
     "ename": "TypeError",
     "evalue": "dump() missing 1 required positional argument: 'fp'",
     "output_type": "error",
     "traceback": [
      "\u001b[1;31m---------------------------------------------------------------------------\u001b[0m",
      "\u001b[1;31mTypeError\u001b[0m                                 Traceback (most recent call last)",
      "\u001b[1;32mc:\\Users\\colli\\Documents\\Github Repos\\ff_locations\\dd_nb.ipynb Cell 4'\u001b[0m in \u001b[0;36m<cell line: 1>\u001b[1;34m()\u001b[0m\n\u001b[1;32m----> <a href='vscode-notebook-cell:/c%3A/Users/colli/Documents/Github%20Repos/ff_locations/dd_nb.ipynb#ch0000009?line=0'>1</a>\u001b[0m json\u001b[39m.\u001b[39;49mdump(get_result\u001b[39m.\u001b[39;49mcontent)\n",
      "\u001b[1;31mTypeError\u001b[0m: dump() missing 1 required positional argument: 'fp'"
     ]
    }
   ],
   "source": [
    "json.dump(get_result.content)"
   ]
  },
  {
   "cell_type": "code",
   "execution_count": 28,
   "metadata": {},
   "outputs": [
    {
     "ename": "TypeError",
     "evalue": "Expected file path name or file-like object, got <class 'bytes'> type",
     "output_type": "error",
     "traceback": [
      "\u001b[1;31m---------------------------------------------------------------------------\u001b[0m",
      "\u001b[1;31mTypeError\u001b[0m                                 Traceback (most recent call last)",
      "\u001b[1;32mc:\\Users\\colli\\Documents\\Github Repos\\ff_locations\\dd_nb.ipynb Cell 4'\u001b[0m in \u001b[0;36m<cell line: 1>\u001b[1;34m()\u001b[0m\n\u001b[1;32m----> <a href='vscode-notebook-cell:/c%3A/Users/colli/Documents/Github%20Repos/ff_locations/dd_nb.ipynb#ch0000008?line=0'>1</a>\u001b[0m results \u001b[39m=\u001b[39m pd\u001b[39m.\u001b[39;49mread_json(get_result\u001b[39m.\u001b[39;49mcontent)\n",
      "File \u001b[1;32mc:\\Users\\colli\\AppData\\Local\\Programs\\Python\\Python310\\lib\\site-packages\\pandas\\util\\_decorators.py:207\u001b[0m, in \u001b[0;36mdeprecate_kwarg.<locals>._deprecate_kwarg.<locals>.wrapper\u001b[1;34m(*args, **kwargs)\u001b[0m\n\u001b[0;32m    <a href='file:///c%3A/Users/colli/AppData/Local/Programs/Python/Python310/lib/site-packages/pandas/util/_decorators.py?line=204'>205</a>\u001b[0m     \u001b[39melse\u001b[39;00m:\n\u001b[0;32m    <a href='file:///c%3A/Users/colli/AppData/Local/Programs/Python/Python310/lib/site-packages/pandas/util/_decorators.py?line=205'>206</a>\u001b[0m         kwargs[new_arg_name] \u001b[39m=\u001b[39m new_arg_value\n\u001b[1;32m--> <a href='file:///c%3A/Users/colli/AppData/Local/Programs/Python/Python310/lib/site-packages/pandas/util/_decorators.py?line=206'>207</a>\u001b[0m \u001b[39mreturn\u001b[39;00m func(\u001b[39m*\u001b[39margs, \u001b[39m*\u001b[39m\u001b[39m*\u001b[39mkwargs)\n",
      "File \u001b[1;32mc:\\Users\\colli\\AppData\\Local\\Programs\\Python\\Python310\\lib\\site-packages\\pandas\\util\\_decorators.py:311\u001b[0m, in \u001b[0;36mdeprecate_nonkeyword_arguments.<locals>.decorate.<locals>.wrapper\u001b[1;34m(*args, **kwargs)\u001b[0m\n\u001b[0;32m    <a href='file:///c%3A/Users/colli/AppData/Local/Programs/Python/Python310/lib/site-packages/pandas/util/_decorators.py?line=304'>305</a>\u001b[0m \u001b[39mif\u001b[39;00m \u001b[39mlen\u001b[39m(args) \u001b[39m>\u001b[39m num_allow_args:\n\u001b[0;32m    <a href='file:///c%3A/Users/colli/AppData/Local/Programs/Python/Python310/lib/site-packages/pandas/util/_decorators.py?line=305'>306</a>\u001b[0m     warnings\u001b[39m.\u001b[39mwarn(\n\u001b[0;32m    <a href='file:///c%3A/Users/colli/AppData/Local/Programs/Python/Python310/lib/site-packages/pandas/util/_decorators.py?line=306'>307</a>\u001b[0m         msg\u001b[39m.\u001b[39mformat(arguments\u001b[39m=\u001b[39marguments),\n\u001b[0;32m    <a href='file:///c%3A/Users/colli/AppData/Local/Programs/Python/Python310/lib/site-packages/pandas/util/_decorators.py?line=307'>308</a>\u001b[0m         \u001b[39mFutureWarning\u001b[39;00m,\n\u001b[0;32m    <a href='file:///c%3A/Users/colli/AppData/Local/Programs/Python/Python310/lib/site-packages/pandas/util/_decorators.py?line=308'>309</a>\u001b[0m         stacklevel\u001b[39m=\u001b[39mstacklevel,\n\u001b[0;32m    <a href='file:///c%3A/Users/colli/AppData/Local/Programs/Python/Python310/lib/site-packages/pandas/util/_decorators.py?line=309'>310</a>\u001b[0m     )\n\u001b[1;32m--> <a href='file:///c%3A/Users/colli/AppData/Local/Programs/Python/Python310/lib/site-packages/pandas/util/_decorators.py?line=310'>311</a>\u001b[0m \u001b[39mreturn\u001b[39;00m func(\u001b[39m*\u001b[39margs, \u001b[39m*\u001b[39m\u001b[39m*\u001b[39mkwargs)\n",
      "File \u001b[1;32mc:\\Users\\colli\\AppData\\Local\\Programs\\Python\\Python310\\lib\\site-packages\\pandas\\io\\json\\_json.py:588\u001b[0m, in \u001b[0;36mread_json\u001b[1;34m(path_or_buf, orient, typ, dtype, convert_axes, convert_dates, keep_default_dates, numpy, precise_float, date_unit, encoding, encoding_errors, lines, chunksize, compression, nrows, storage_options)\u001b[0m\n\u001b[0;32m    <a href='file:///c%3A/Users/colli/AppData/Local/Programs/Python/Python310/lib/site-packages/pandas/io/json/_json.py?line=584'>585</a>\u001b[0m \u001b[39mif\u001b[39;00m convert_axes \u001b[39mis\u001b[39;00m \u001b[39mNone\u001b[39;00m \u001b[39mand\u001b[39;00m orient \u001b[39m!=\u001b[39m \u001b[39m\"\u001b[39m\u001b[39mtable\u001b[39m\u001b[39m\"\u001b[39m:\n\u001b[0;32m    <a href='file:///c%3A/Users/colli/AppData/Local/Programs/Python/Python310/lib/site-packages/pandas/io/json/_json.py?line=585'>586</a>\u001b[0m     convert_axes \u001b[39m=\u001b[39m \u001b[39mTrue\u001b[39;00m\n\u001b[1;32m--> <a href='file:///c%3A/Users/colli/AppData/Local/Programs/Python/Python310/lib/site-packages/pandas/io/json/_json.py?line=587'>588</a>\u001b[0m json_reader \u001b[39m=\u001b[39m JsonReader(\n\u001b[0;32m    <a href='file:///c%3A/Users/colli/AppData/Local/Programs/Python/Python310/lib/site-packages/pandas/io/json/_json.py?line=588'>589</a>\u001b[0m     path_or_buf,\n\u001b[0;32m    <a href='file:///c%3A/Users/colli/AppData/Local/Programs/Python/Python310/lib/site-packages/pandas/io/json/_json.py?line=589'>590</a>\u001b[0m     orient\u001b[39m=\u001b[39;49morient,\n\u001b[0;32m    <a href='file:///c%3A/Users/colli/AppData/Local/Programs/Python/Python310/lib/site-packages/pandas/io/json/_json.py?line=590'>591</a>\u001b[0m     typ\u001b[39m=\u001b[39;49mtyp,\n\u001b[0;32m    <a href='file:///c%3A/Users/colli/AppData/Local/Programs/Python/Python310/lib/site-packages/pandas/io/json/_json.py?line=591'>592</a>\u001b[0m     dtype\u001b[39m=\u001b[39;49mdtype,\n\u001b[0;32m    <a href='file:///c%3A/Users/colli/AppData/Local/Programs/Python/Python310/lib/site-packages/pandas/io/json/_json.py?line=592'>593</a>\u001b[0m     convert_axes\u001b[39m=\u001b[39;49mconvert_axes,\n\u001b[0;32m    <a href='file:///c%3A/Users/colli/AppData/Local/Programs/Python/Python310/lib/site-packages/pandas/io/json/_json.py?line=593'>594</a>\u001b[0m     convert_dates\u001b[39m=\u001b[39;49mconvert_dates,\n\u001b[0;32m    <a href='file:///c%3A/Users/colli/AppData/Local/Programs/Python/Python310/lib/site-packages/pandas/io/json/_json.py?line=594'>595</a>\u001b[0m     keep_default_dates\u001b[39m=\u001b[39;49mkeep_default_dates,\n\u001b[0;32m    <a href='file:///c%3A/Users/colli/AppData/Local/Programs/Python/Python310/lib/site-packages/pandas/io/json/_json.py?line=595'>596</a>\u001b[0m     numpy\u001b[39m=\u001b[39;49mnumpy,\n\u001b[0;32m    <a href='file:///c%3A/Users/colli/AppData/Local/Programs/Python/Python310/lib/site-packages/pandas/io/json/_json.py?line=596'>597</a>\u001b[0m     precise_float\u001b[39m=\u001b[39;49mprecise_float,\n\u001b[0;32m    <a href='file:///c%3A/Users/colli/AppData/Local/Programs/Python/Python310/lib/site-packages/pandas/io/json/_json.py?line=597'>598</a>\u001b[0m     date_unit\u001b[39m=\u001b[39;49mdate_unit,\n\u001b[0;32m    <a href='file:///c%3A/Users/colli/AppData/Local/Programs/Python/Python310/lib/site-packages/pandas/io/json/_json.py?line=598'>599</a>\u001b[0m     encoding\u001b[39m=\u001b[39;49mencoding,\n\u001b[0;32m    <a href='file:///c%3A/Users/colli/AppData/Local/Programs/Python/Python310/lib/site-packages/pandas/io/json/_json.py?line=599'>600</a>\u001b[0m     lines\u001b[39m=\u001b[39;49mlines,\n\u001b[0;32m    <a href='file:///c%3A/Users/colli/AppData/Local/Programs/Python/Python310/lib/site-packages/pandas/io/json/_json.py?line=600'>601</a>\u001b[0m     chunksize\u001b[39m=\u001b[39;49mchunksize,\n\u001b[0;32m    <a href='file:///c%3A/Users/colli/AppData/Local/Programs/Python/Python310/lib/site-packages/pandas/io/json/_json.py?line=601'>602</a>\u001b[0m     compression\u001b[39m=\u001b[39;49mcompression,\n\u001b[0;32m    <a href='file:///c%3A/Users/colli/AppData/Local/Programs/Python/Python310/lib/site-packages/pandas/io/json/_json.py?line=602'>603</a>\u001b[0m     nrows\u001b[39m=\u001b[39;49mnrows,\n\u001b[0;32m    <a href='file:///c%3A/Users/colli/AppData/Local/Programs/Python/Python310/lib/site-packages/pandas/io/json/_json.py?line=603'>604</a>\u001b[0m     storage_options\u001b[39m=\u001b[39;49mstorage_options,\n\u001b[0;32m    <a href='file:///c%3A/Users/colli/AppData/Local/Programs/Python/Python310/lib/site-packages/pandas/io/json/_json.py?line=604'>605</a>\u001b[0m     encoding_errors\u001b[39m=\u001b[39;49mencoding_errors,\n\u001b[0;32m    <a href='file:///c%3A/Users/colli/AppData/Local/Programs/Python/Python310/lib/site-packages/pandas/io/json/_json.py?line=605'>606</a>\u001b[0m )\n\u001b[0;32m    <a href='file:///c%3A/Users/colli/AppData/Local/Programs/Python/Python310/lib/site-packages/pandas/io/json/_json.py?line=607'>608</a>\u001b[0m \u001b[39mif\u001b[39;00m chunksize:\n\u001b[0;32m    <a href='file:///c%3A/Users/colli/AppData/Local/Programs/Python/Python310/lib/site-packages/pandas/io/json/_json.py?line=608'>609</a>\u001b[0m     \u001b[39mreturn\u001b[39;00m json_reader\n",
      "File \u001b[1;32mc:\\Users\\colli\\AppData\\Local\\Programs\\Python\\Python310\\lib\\site-packages\\pandas\\io\\json\\_json.py:673\u001b[0m, in \u001b[0;36mJsonReader.__init__\u001b[1;34m(self, filepath_or_buffer, orient, typ, dtype, convert_axes, convert_dates, keep_default_dates, numpy, precise_float, date_unit, encoding, lines, chunksize, compression, nrows, storage_options, encoding_errors)\u001b[0m\n\u001b[0;32m    <a href='file:///c%3A/Users/colli/AppData/Local/Programs/Python/Python310/lib/site-packages/pandas/io/json/_json.py?line=669'>670</a>\u001b[0m     \u001b[39mif\u001b[39;00m \u001b[39mnot\u001b[39;00m \u001b[39mself\u001b[39m\u001b[39m.\u001b[39mlines:\n\u001b[0;32m    <a href='file:///c%3A/Users/colli/AppData/Local/Programs/Python/Python310/lib/site-packages/pandas/io/json/_json.py?line=670'>671</a>\u001b[0m         \u001b[39mraise\u001b[39;00m \u001b[39mValueError\u001b[39;00m(\u001b[39m\"\u001b[39m\u001b[39mnrows can only be passed if lines=True\u001b[39m\u001b[39m\"\u001b[39m)\n\u001b[1;32m--> <a href='file:///c%3A/Users/colli/AppData/Local/Programs/Python/Python310/lib/site-packages/pandas/io/json/_json.py?line=672'>673</a>\u001b[0m data \u001b[39m=\u001b[39m \u001b[39mself\u001b[39;49m\u001b[39m.\u001b[39;49m_get_data_from_filepath(filepath_or_buffer)\n\u001b[0;32m    <a href='file:///c%3A/Users/colli/AppData/Local/Programs/Python/Python310/lib/site-packages/pandas/io/json/_json.py?line=673'>674</a>\u001b[0m \u001b[39mself\u001b[39m\u001b[39m.\u001b[39mdata \u001b[39m=\u001b[39m \u001b[39mself\u001b[39m\u001b[39m.\u001b[39m_preprocess_data(data)\n",
      "File \u001b[1;32mc:\\Users\\colli\\AppData\\Local\\Programs\\Python\\Python310\\lib\\site-packages\\pandas\\io\\json\\_json.py:710\u001b[0m, in \u001b[0;36mJsonReader._get_data_from_filepath\u001b[1;34m(self, filepath_or_buffer)\u001b[0m\n\u001b[0;32m    <a href='file:///c%3A/Users/colli/AppData/Local/Programs/Python/Python310/lib/site-packages/pandas/io/json/_json.py?line=702'>703</a>\u001b[0m filepath_or_buffer \u001b[39m=\u001b[39m stringify_path(filepath_or_buffer)\n\u001b[0;32m    <a href='file:///c%3A/Users/colli/AppData/Local/Programs/Python/Python310/lib/site-packages/pandas/io/json/_json.py?line=703'>704</a>\u001b[0m \u001b[39mif\u001b[39;00m (\n\u001b[0;32m    <a href='file:///c%3A/Users/colli/AppData/Local/Programs/Python/Python310/lib/site-packages/pandas/io/json/_json.py?line=704'>705</a>\u001b[0m     \u001b[39mnot\u001b[39;00m \u001b[39misinstance\u001b[39m(filepath_or_buffer, \u001b[39mstr\u001b[39m)\n\u001b[0;32m    <a href='file:///c%3A/Users/colli/AppData/Local/Programs/Python/Python310/lib/site-packages/pandas/io/json/_json.py?line=705'>706</a>\u001b[0m     \u001b[39mor\u001b[39;00m is_url(filepath_or_buffer)\n\u001b[0;32m    <a href='file:///c%3A/Users/colli/AppData/Local/Programs/Python/Python310/lib/site-packages/pandas/io/json/_json.py?line=706'>707</a>\u001b[0m     \u001b[39mor\u001b[39;00m is_fsspec_url(filepath_or_buffer)\n\u001b[0;32m    <a href='file:///c%3A/Users/colli/AppData/Local/Programs/Python/Python310/lib/site-packages/pandas/io/json/_json.py?line=707'>708</a>\u001b[0m     \u001b[39mor\u001b[39;00m file_exists(filepath_or_buffer)\n\u001b[0;32m    <a href='file:///c%3A/Users/colli/AppData/Local/Programs/Python/Python310/lib/site-packages/pandas/io/json/_json.py?line=708'>709</a>\u001b[0m ):\n\u001b[1;32m--> <a href='file:///c%3A/Users/colli/AppData/Local/Programs/Python/Python310/lib/site-packages/pandas/io/json/_json.py?line=709'>710</a>\u001b[0m     \u001b[39mself\u001b[39m\u001b[39m.\u001b[39mhandles \u001b[39m=\u001b[39m get_handle(\n\u001b[0;32m    <a href='file:///c%3A/Users/colli/AppData/Local/Programs/Python/Python310/lib/site-packages/pandas/io/json/_json.py?line=710'>711</a>\u001b[0m         filepath_or_buffer,\n\u001b[0;32m    <a href='file:///c%3A/Users/colli/AppData/Local/Programs/Python/Python310/lib/site-packages/pandas/io/json/_json.py?line=711'>712</a>\u001b[0m         \u001b[39m\"\u001b[39;49m\u001b[39mr\u001b[39;49m\u001b[39m\"\u001b[39;49m,\n\u001b[0;32m    <a href='file:///c%3A/Users/colli/AppData/Local/Programs/Python/Python310/lib/site-packages/pandas/io/json/_json.py?line=712'>713</a>\u001b[0m         encoding\u001b[39m=\u001b[39;49m\u001b[39mself\u001b[39;49m\u001b[39m.\u001b[39;49mencoding,\n\u001b[0;32m    <a href='file:///c%3A/Users/colli/AppData/Local/Programs/Python/Python310/lib/site-packages/pandas/io/json/_json.py?line=713'>714</a>\u001b[0m         compression\u001b[39m=\u001b[39;49m\u001b[39mself\u001b[39;49m\u001b[39m.\u001b[39;49mcompression,\n\u001b[0;32m    <a href='file:///c%3A/Users/colli/AppData/Local/Programs/Python/Python310/lib/site-packages/pandas/io/json/_json.py?line=714'>715</a>\u001b[0m         storage_options\u001b[39m=\u001b[39;49m\u001b[39mself\u001b[39;49m\u001b[39m.\u001b[39;49mstorage_options,\n\u001b[0;32m    <a href='file:///c%3A/Users/colli/AppData/Local/Programs/Python/Python310/lib/site-packages/pandas/io/json/_json.py?line=715'>716</a>\u001b[0m         errors\u001b[39m=\u001b[39;49m\u001b[39mself\u001b[39;49m\u001b[39m.\u001b[39;49mencoding_errors,\n\u001b[0;32m    <a href='file:///c%3A/Users/colli/AppData/Local/Programs/Python/Python310/lib/site-packages/pandas/io/json/_json.py?line=716'>717</a>\u001b[0m     )\n\u001b[0;32m    <a href='file:///c%3A/Users/colli/AppData/Local/Programs/Python/Python310/lib/site-packages/pandas/io/json/_json.py?line=717'>718</a>\u001b[0m     filepath_or_buffer \u001b[39m=\u001b[39m \u001b[39mself\u001b[39m\u001b[39m.\u001b[39mhandles\u001b[39m.\u001b[39mhandle\n\u001b[0;32m    <a href='file:///c%3A/Users/colli/AppData/Local/Programs/Python/Python310/lib/site-packages/pandas/io/json/_json.py?line=719'>720</a>\u001b[0m \u001b[39mreturn\u001b[39;00m filepath_or_buffer\n",
      "File \u001b[1;32mc:\\Users\\colli\\AppData\\Local\\Programs\\Python\\Python310\\lib\\site-packages\\pandas\\io\\common.py:826\u001b[0m, in \u001b[0;36mget_handle\u001b[1;34m(path_or_buf, mode, encoding, compression, memory_map, is_text, errors, storage_options)\u001b[0m\n\u001b[0;32m    <a href='file:///c%3A/Users/colli/AppData/Local/Programs/Python/Python310/lib/site-packages/pandas/io/common.py?line=820'>821</a>\u001b[0m     is_wrapped \u001b[39m=\u001b[39m \u001b[39mnot\u001b[39;00m (\n\u001b[0;32m    <a href='file:///c%3A/Users/colli/AppData/Local/Programs/Python/Python310/lib/site-packages/pandas/io/common.py?line=821'>822</a>\u001b[0m         \u001b[39misinstance\u001b[39m(ioargs\u001b[39m.\u001b[39mfilepath_or_buffer, \u001b[39mstr\u001b[39m) \u001b[39mor\u001b[39;00m ioargs\u001b[39m.\u001b[39mshould_close\n\u001b[0;32m    <a href='file:///c%3A/Users/colli/AppData/Local/Programs/Python/Python310/lib/site-packages/pandas/io/common.py?line=822'>823</a>\u001b[0m     )\n\u001b[0;32m    <a href='file:///c%3A/Users/colli/AppData/Local/Programs/Python/Python310/lib/site-packages/pandas/io/common.py?line=824'>825</a>\u001b[0m \u001b[39mif\u001b[39;00m \u001b[39m\"\u001b[39m\u001b[39mr\u001b[39m\u001b[39m\"\u001b[39m \u001b[39min\u001b[39;00m ioargs\u001b[39m.\u001b[39mmode \u001b[39mand\u001b[39;00m \u001b[39mnot\u001b[39;00m \u001b[39mhasattr\u001b[39m(handle, \u001b[39m\"\u001b[39m\u001b[39mread\u001b[39m\u001b[39m\"\u001b[39m):\n\u001b[1;32m--> <a href='file:///c%3A/Users/colli/AppData/Local/Programs/Python/Python310/lib/site-packages/pandas/io/common.py?line=825'>826</a>\u001b[0m     \u001b[39mraise\u001b[39;00m \u001b[39mTypeError\u001b[39;00m(\n\u001b[0;32m    <a href='file:///c%3A/Users/colli/AppData/Local/Programs/Python/Python310/lib/site-packages/pandas/io/common.py?line=826'>827</a>\u001b[0m         \u001b[39m\"\u001b[39m\u001b[39mExpected file path name or file-like object, \u001b[39m\u001b[39m\"\u001b[39m\n\u001b[0;32m    <a href='file:///c%3A/Users/colli/AppData/Local/Programs/Python/Python310/lib/site-packages/pandas/io/common.py?line=827'>828</a>\u001b[0m         \u001b[39mf\u001b[39m\u001b[39m\"\u001b[39m\u001b[39mgot \u001b[39m\u001b[39m{\u001b[39;00m\u001b[39mtype\u001b[39m(ioargs\u001b[39m.\u001b[39mfilepath_or_buffer)\u001b[39m}\u001b[39;00m\u001b[39m type\u001b[39m\u001b[39m\"\u001b[39m\n\u001b[0;32m    <a href='file:///c%3A/Users/colli/AppData/Local/Programs/Python/Python310/lib/site-packages/pandas/io/common.py?line=828'>829</a>\u001b[0m     )\n\u001b[0;32m    <a href='file:///c%3A/Users/colli/AppData/Local/Programs/Python/Python310/lib/site-packages/pandas/io/common.py?line=830'>831</a>\u001b[0m handles\u001b[39m.\u001b[39mreverse()  \u001b[39m# close the most recently added buffer first\u001b[39;00m\n\u001b[0;32m    <a href='file:///c%3A/Users/colli/AppData/Local/Programs/Python/Python310/lib/site-packages/pandas/io/common.py?line=831'>832</a>\u001b[0m \u001b[39mif\u001b[39;00m ioargs\u001b[39m.\u001b[39mshould_close:\n",
      "\u001b[1;31mTypeError\u001b[0m: Expected file path name or file-like object, got <class 'bytes'> type"
     ]
    }
   ],
   "source": [
    "results = pd.read_json(get_result.content)"
   ]
  }
 ],
 "metadata": {
  "interpreter": {
   "hash": "81b417f7e99debf9609bef134b1fac8e0a0a31c7a8c9a243109829771a606077"
  },
  "kernelspec": {
   "display_name": "Python 3.10.4 64-bit",
   "language": "python",
   "name": "python3"
  },
  "language_info": {
   "codemirror_mode": {
    "name": "ipython",
    "version": 3
   },
   "file_extension": ".py",
   "mimetype": "text/x-python",
   "name": "python",
   "nbconvert_exporter": "python",
   "pygments_lexer": "ipython3",
   "version": "3.10.4"
  },
  "orig_nbformat": 4
 },
 "nbformat": 4,
 "nbformat_minor": 2
}
