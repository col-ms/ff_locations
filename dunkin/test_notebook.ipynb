{
 "cells": [
  {
   "cell_type": "code",
   "execution_count": 1,
   "metadata": {},
   "outputs": [],
   "source": [
    "import pandas as pd\n",
    "from geopy.geocoders import Nominatim"
   ]
  },
  {
   "cell_type": "code",
   "execution_count": 2,
   "metadata": {},
   "outputs": [],
   "source": [
    "df = pd.read_csv(\"dunkin_stores.csv\")"
   ]
  },
  {
   "cell_type": "code",
   "execution_count": 3,
   "metadata": {},
   "outputs": [],
   "source": [
    "geolocator = Nominatim(user_agent = 'myApp')"
   ]
  },
  {
   "cell_type": "code",
   "execution_count": 14,
   "metadata": {},
   "outputs": [
    {
     "name": "stdout",
     "output_type": "stream",
     "text": [
      "9249  of  9249\r"
     ]
    }
   ],
   "source": [
    "lat, long = [], []\n",
    "i = 1\n",
    "\n",
    "for address in df.location:\n",
    "    print(i, \" of \", len(df.location), end = '\\r')\n",
    "    i += 1\n",
    "    try:\n",
    "        location = geolocator.geocode(address)\n",
    "        \n",
    "        lat.append(location.latitude)\n",
    "        long.append(location.longitude)\n",
    "    except:\n",
    "        lat.append(\"N/A\")\n",
    "        long.append(\"N/A\")"
   ]
  },
  {
   "cell_type": "code",
   "execution_count": 15,
   "metadata": {},
   "outputs": [],
   "source": [
    "df['loc_lat'] = lat\n",
    "df['loc_long'] = long"
   ]
  },
  {
   "cell_type": "code",
   "execution_count": 16,
   "metadata": {},
   "outputs": [],
   "source": [
    "df = df.drop(columns = \"location\")"
   ]
  },
  {
   "cell_type": "code",
   "execution_count": 18,
   "metadata": {},
   "outputs": [],
   "source": [
    "df.to_csv('dunkin_stores.csv', index = False)"
   ]
  },
  {
   "cell_type": "code",
   "execution_count": 62,
   "metadata": {},
   "outputs": [
    {
     "name": "stdout",
     "output_type": "stream",
     "text": [
      "[(50.1262402, 8.767057053362574), (50.1262402, 8.767057053362574), (53.6805214, 10.4282207), (53.6805214, 10.4282207), (53.6805214, 10.4282207)]\n"
     ]
    }
   ],
   "source": [
    "addresses = [\n",
    "            '20, Willmannstraße, Fechenheim, Ost, Frankfurt am Main, Hessen, 60386, Deutschland',\n",
    "            '20, Willmannstraße, Fechenheim, Ost, Frankfurt am Main, Hessen, 60386, Deutschland',\n",
    "            'Pöhlen, Schönberg, Sandesneben-Nusse, Herzogtum Lauenburg, Schleswig-Holstein, 22929, Deutschland',\n",
    "            'Pöhlen, Schönberg, Sandesneben-Nusse, Herzogtum Lauenburg, Schleswig-Holstein, 22929, Deutschland',\n",
    "            'Pöhlen, Schönberg, Sandesneben-Nusse, Herzogtum Lauenburg, Schleswig-Holstein, 22929, Deutschland'\n",
    "]\n",
    "\n",
    "coordinates = []\n",
    "\n",
    "for address in addresses:\n",
    "    location = geolocator.geocode(address)\n",
    "\n",
    "    lat, lon = location.latitude, location.longitude\n",
    "\n",
    "    coordinates.append((lat, lon))\n",
    "\n",
    "print(coordinates)\n",
    "\n"
   ]
  }
 ],
 "metadata": {
  "kernelspec": {
   "display_name": "Python 3.10.4 64-bit",
   "language": "python",
   "name": "python3"
  },
  "language_info": {
   "codemirror_mode": {
    "name": "ipython",
    "version": 3
   },
   "file_extension": ".py",
   "mimetype": "text/x-python",
   "name": "python",
   "nbconvert_exporter": "python",
   "pygments_lexer": "ipython3",
   "version": "3.10.4"
  },
  "orig_nbformat": 4,
  "vscode": {
   "interpreter": {
    "hash": "81b417f7e99debf9609bef134b1fac8e0a0a31c7a8c9a243109829771a606077"
   }
  }
 },
 "nbformat": 4,
 "nbformat_minor": 2
}
